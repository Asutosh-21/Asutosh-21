{
  "nbformat": 4,
  "nbformat_minor": 0,
  "metadata": {
    "colab": {
      "private_outputs": true,
      "provenance": [],
      "authorship_tag": "ABX9TyNWwpT0NgiXOgmdgtZx/kXW",
      "include_colab_link": true
    },
    "kernelspec": {
      "name": "python3",
      "display_name": "Python 3"
    },
    "language_info": {
      "name": "python"
    }
  },
  "cells": [
    {
      "cell_type": "markdown",
      "metadata": {
        "id": "view-in-github",
        "colab_type": "text"
      },
      "source": [
        "<a href=\"https://colab.research.google.com/github/Asutosh-21/Asutosh-21/blob/main/E_Commerce_Database_Analysis.ipynb\" target=\"_parent\"><img src=\"https://colab.research.google.com/assets/colab-badge.svg\" alt=\"Open In Colab\"/></a>"
      ]
    },
    {
      "cell_type": "markdown",
      "source": [
        "# E-commerce database analysis\n"
      ],
      "metadata": {
        "id": "-kQcejqC57qe"
      }
    },
    {
      "cell_type": "code",
      "execution_count": null,
      "metadata": {
        "id": "gSMnue2t3pt2"
      },
      "outputs": [],
      "source": [
        "# Importing the pandas library for data manipulation and analysis\n",
        "import pandas as pd\n",
        "\n",
        "# Importing Plotly Express, a high-level interface for creating interactive plots easily\n",
        "import plotly.express as px\n",
        "\n",
        "# Importing Plotly Graph Objects, a lower-level API for more flexible and detailed visualizations\n",
        "import plotly.graph_objects as go\n",
        "\n",
        "# Importing Plotly I/O for handling input/output operations like exporting plots as images or HTML\n",
        "import plotly.io as pio\n",
        "\n",
        "# Importing color scales and color-related utilities from Plotly\n",
        "import plotly.colors as colors\n",
        "\n",
        "# Setting the default template for all plots to \"plotly_white\" which gives a clean white background\n",
        "pio.templates.default = \"plotly_white\"\n"
      ]
    },
    {
      "cell_type": "code",
      "source": [
        "from google.colab import files\n",
        "uploaded = files.upload()\n"
      ],
      "metadata": {
        "id": "FghtHodT6rxu"
      },
      "execution_count": null,
      "outputs": []
    },
    {
      "cell_type": "code",
      "source": [
        "data = pd.read_csv(\"Sample - Superstore.csv\", encoding='latin1') # here encoding='latin1' use for read special characters\n"
      ],
      "metadata": {
        "id": "MGflPKK-7gdM"
      },
      "execution_count": null,
      "outputs": []
    },
    {
      "cell_type": "code",
      "source": [
        "data"
      ],
      "metadata": {
        "id": "kdSmVx2n8meI"
      },
      "execution_count": null,
      "outputs": []
    },
    {
      "cell_type": "code",
      "source": [
        "data.head()"
      ],
      "metadata": {
        "id": "qu6V-v5N9Mjx"
      },
      "execution_count": null,
      "outputs": []
    },
    {
      "cell_type": "code",
      "source": [
        "data.describe()"
      ],
      "metadata": {
        "id": "_irRnbQx9Pv0"
      },
      "execution_count": null,
      "outputs": []
    },
    {
      "cell_type": "code",
      "source": [
        "data.info()"
      ],
      "metadata": {
        "id": "saeFEGEP9jlG"
      },
      "execution_count": null,
      "outputs": []
    },
    {
      "cell_type": "markdown",
      "source": [
        "# #Here we conclude data is clear no null value"
      ],
      "metadata": {
        "id": "Ni4XhCan-FYL"
      }
    },
    {
      "cell_type": "markdown",
      "source": [
        "# converting date columns"
      ],
      "metadata": {
        "id": "Qx0Ihgyh-TYn"
      }
    },
    {
      "cell_type": "code",
      "source": [
        "\n",
        "data['Order Date'] = pd.to_datetime(data['Order Date'])\n",
        "data['Ship Date'] = pd.to_datetime(data['Ship Date'])"
      ],
      "metadata": {
        "id": "21ylynrN96Eg"
      },
      "execution_count": null,
      "outputs": []
    },
    {
      "cell_type": "code",
      "source": [
        "data.info()"
      ],
      "metadata": {
        "id": "QvKBIsGQ-mcj"
      },
      "execution_count": null,
      "outputs": []
    },
    {
      "cell_type": "code",
      "source": [
        "data.head()"
      ],
      "metadata": {
        "id": "GPNvrxDc-oTu"
      },
      "execution_count": null,
      "outputs": []
    },
    {
      "cell_type": "markdown",
      "source": [
        "# TASK -1 You need to calculate the monthly sales of the store and identify which month had the highest sales and which month had the lowest sales."
      ],
      "metadata": {
        "id": "gcrSKeBpAllp"
      }
    },
    {
      "cell_type": "code",
      "source": [
        "data ['Order Month'] =  data['Order Date'].dt.month\n",
        "data ['Order year'] =  data['Order Date'].dt.year\n",
        "data ['Order Day of Week'] =  data['Order Date'].dt.dayofweek"
      ],
      "metadata": {
        "id": "JtUvp9if_KR7"
      },
      "execution_count": null,
      "outputs": []
    },
    {
      "cell_type": "code",
      "source": [
        "data.head()"
      ],
      "metadata": {
        "id": "WResAQgOAyJY"
      },
      "execution_count": null,
      "outputs": []
    },
    {
      "cell_type": "markdown",
      "source": [
        "here 3 another column is added\n"
      ],
      "metadata": {
        "id": "b15FRBiqBdaj"
      }
    },
    {
      "cell_type": "markdown",
      "source": [
        "# Monthly Sales Analysis"
      ],
      "metadata": {
        "id": "cq6iRZMZBnR1"
      }
    },
    {
      "cell_type": "code",
      "source": [
        "sales_by_month = data.groupby('Order Month')['Sales'].sum().reset_index()"
      ],
      "metadata": {
        "id": "Iq7Dy7wkBXcu"
      },
      "execution_count": null,
      "outputs": []
    },
    {
      "cell_type": "code",
      "source": [
        "print(sales_by_month)"
      ],
      "metadata": {
        "id": "8U6O-45OCCVN"
      },
      "execution_count": null,
      "outputs": []
    },
    {
      "cell_type": "code",
      "source": [
        "fig = px.line(sales_by_month, x='Order Month', y='Sales', title='Monthly Sales Analysis')\n",
        "fig.show()"
      ],
      "metadata": {
        "id": "H_bGMPiTCzKj"
      },
      "execution_count": null,
      "outputs": []
    },
    {
      "cell_type": "markdown",
      "source": [
        "here it conclude that nov has highest sales and january has low sales"
      ],
      "metadata": {
        "id": "-E0ChitHDKtr"
      }
    },
    {
      "cell_type": "markdown",
      "source": [
        "#TASK -2 You need to analyze sales based on product categories and determine which category has the lowest sales and which category has the highest sales."
      ],
      "metadata": {
        "id": "Yiz0F45xDYN-"
      }
    },
    {
      "cell_type": "markdown",
      "source": [
        "# Sales by Category"
      ],
      "metadata": {
        "id": "oQN2KLLpDcxt"
      }
    },
    {
      "cell_type": "code",
      "source": [
        "sales_by_category = data.groupby('Category')['Sales'].sum().reset_index()"
      ],
      "metadata": {
        "id": "WEVsRGApC3oW"
      },
      "execution_count": null,
      "outputs": []
    },
    {
      "cell_type": "code",
      "source": [
        "sales_by_category"
      ],
      "metadata": {
        "id": "xtHN_CjBDvXN"
      },
      "execution_count": null,
      "outputs": []
    },
    {
      "cell_type": "code",
      "source": [
        "fig = px.pie(sales_by_category,\n",
        "             names='Category',\n",
        "             values='Sales',\n",
        "             hole=0.5,  # donut chart\n",
        "             color_discrete_sequence=px.colors.qualitative.Pastel,\n",
        "             title='Sales Analysis by Category')\n",
        "\n",
        "# Adjust label placement and info\n",
        "fig.update_traces(textposition='inside', textinfo='percent+label')\n",
        "\n",
        "# Customize title font\n",
        "fig.update_layout(title_font=dict(size=20))\n",
        "\n",
        "fig.show()"
      ],
      "metadata": {
        "id": "vfCd3-Z8D03a"
      },
      "execution_count": null,
      "outputs": []
    },
    {
      "cell_type": "markdown",
      "source": [
        "# TASK -3 The sales analysis needs to be done based on sub-categories."
      ],
      "metadata": {
        "id": "nNVk-d5MGFiH"
      }
    },
    {
      "cell_type": "markdown",
      "source": [
        "### #Sales Analysis by sub category"
      ],
      "metadata": {
        "id": "bP0N50h6Qmwi"
      }
    },
    {
      "cell_type": "code",
      "source": [
        "data.head()"
      ],
      "metadata": {
        "id": "tiqtJWadQk-T"
      },
      "execution_count": null,
      "outputs": []
    },
    {
      "cell_type": "code",
      "source": [
        "sales_by_subcategory = data.groupby('Sub-Category')['Sales'].sum().reset_index()"
      ],
      "metadata": {
        "id": "66oPeoQHRDfw"
      },
      "execution_count": null,
      "outputs": []
    },
    {
      "cell_type": "code",
      "source": [
        "sales_by_subcategory"
      ],
      "metadata": {
        "id": "yVsdQ5MCR1Rt"
      },
      "execution_count": null,
      "outputs": []
    },
    {
      "cell_type": "code",
      "source": [
        "fig = px.bar(sales_by_subcategory,\n",
        "             x='Sub-Category',\n",
        "             y='Sales',\n",
        "             color='Sub-Category',\n",
        "             title='Sales Analysis by Sub-Category')\n",
        "fig.show()"
      ],
      "metadata": {
        "id": "7ZSKFZmoR4CU"
      },
      "execution_count": null,
      "outputs": []
    },
    {
      "cell_type": "markdown",
      "source": [
        "### #TASK-4 You need to analyze the monthly profit from sales and determine which month had the highest profit."
      ],
      "metadata": {
        "id": "fpP_U5C9SzKX"
      }
    },
    {
      "cell_type": "markdown",
      "source": [
        "# Monthly Profit Analysis"
      ],
      "metadata": {
        "id": "6uBZmJuqS8io"
      }
    },
    {
      "cell_type": "code",
      "source": [
        "data.head()"
      ],
      "metadata": {
        "id": "xUgZw9RnSIWL"
      },
      "execution_count": null,
      "outputs": []
    },
    {
      "cell_type": "code",
      "source": [
        "profit_by_month = data.groupby('Order Month')['Profit'].sum().reset_index()\n",
        "profit_by_month"
      ],
      "metadata": {
        "id": "_RiYfs5hTDzh"
      },
      "execution_count": null,
      "outputs": []
    },
    {
      "cell_type": "markdown",
      "source": [
        "LINE CHART"
      ],
      "metadata": {
        "id": "mgSZZKGPUCdV"
      }
    },
    {
      "cell_type": "code",
      "source": [
        "fig= px.line(profit_by_month,\n",
        "             x='Order Month',\n",
        "             y='Profit',\n",
        "             title='Monthly Profit Analysis')\n",
        "fig.show()"
      ],
      "metadata": {
        "id": "Dbrpvva1TZ-i"
      },
      "execution_count": null,
      "outputs": []
    },
    {
      "cell_type": "markdown",
      "source": [
        "BAR CHART"
      ],
      "metadata": {
        "id": "1PUxmEdtUFHu"
      }
    },
    {
      "cell_type": "code",
      "source": [
        "fig = px.bar(profit_by_month,\n",
        "             x='Order Month',\n",
        "             y='Profit',\n",
        "             color='Profit',\n",
        "             color_continuous_scale='RdBu',\n",
        "             title='Monthly Profit Analysis')\n",
        "\n",
        "fig.update_layout(title_font=dict(size=20))\n",
        "fig.show()"
      ],
      "metadata": {
        "id": "x_ZO2eOyT5GF"
      },
      "execution_count": null,
      "outputs": []
    },
    {
      "cell_type": "markdown",
      "source": [
        "# TASK -5 Analyze the profit by category and sub-category.\n",
        "\n"
      ],
      "metadata": {
        "id": "RHc4pixyVu36"
      }
    },
    {
      "cell_type": "markdown",
      "source": [
        "## profit by category"
      ],
      "metadata": {
        "id": "jNXAwEonV1y5"
      }
    },
    {
      "cell_type": "code",
      "source": [
        "profit_by_category = data.groupby('Category')['Profit'].sum().reset_index()\n",
        "profit_by_category"
      ],
      "metadata": {
        "id": "bQefBfqQT9gS"
      },
      "execution_count": null,
      "outputs": []
    },
    {
      "cell_type": "code",
      "source": [
        "fig = px.pie(profit_by_category,\n",
        "             names='Category',\n",
        "             values='Profit',\n",
        "             hole=0.5,  # donut chart\n",
        "             color_discrete_sequence=px.colors.qualitative.Pastel,\n",
        "             title='Profit Analysis by Category')\n",
        "fig.update_traces(textposition='inside', textinfo='percent+label')\n",
        "fig.update_layout(title_font=dict(size=20))\n",
        "fig.show()"
      ],
      "metadata": {
        "id": "ERbFxmbEWb7_"
      },
      "execution_count": null,
      "outputs": []
    },
    {
      "cell_type": "markdown",
      "source": [
        "#profit  by sub_category"
      ],
      "metadata": {
        "id": "JV1KurBpXOB7"
      }
    },
    {
      "cell_type": "code",
      "source": [
        "profit_by_subcategory = data.groupby('Sub-Category')['Profit'].sum().reset_index()\n",
        "profit_by_subcategory"
      ],
      "metadata": {
        "id": "ZL3VFz6HXI8T"
      },
      "execution_count": null,
      "outputs": []
    },
    {
      "cell_type": "code",
      "source": [
        "fig = px.bar(profit_by_subcategory,\n",
        "             x='Sub-Category',\n",
        "             y='Profit',\n",
        "             color='Profit',\n",
        "             color_continuous_scale='RdBu',\n",
        "             title='Profit Analysis by Sub-Category')\n",
        "\n",
        "fig.show()"
      ],
      "metadata": {
        "id": "I4_CXFeCXI4y"
      },
      "execution_count": null,
      "outputs": []
    },
    {
      "cell_type": "markdown",
      "source": [
        "# TASK -6 Analyze the sales and profit by customer segment."
      ],
      "metadata": {
        "id": "TkNppjNbYdUa"
      }
    },
    {
      "cell_type": "markdown",
      "source": [
        "# sales and profit for cutomer segment"
      ],
      "metadata": {
        "id": "zE5hKfN-YpgT"
      }
    },
    {
      "cell_type": "code",
      "source": [
        "data.head()"
      ],
      "metadata": {
        "id": "v_-VZ8ilYmo0"
      },
      "execution_count": null,
      "outputs": []
    },
    {
      "cell_type": "code",
      "source": [
        "sales_profit_by_segment = data.groupby('Segment').agg({'Sales': 'sum', 'Profit': 'sum'}).reset_index()\n",
        "sales_profit_by_segment"
      ],
      "metadata": {
        "id": "jBE141emaYqB"
      },
      "execution_count": null,
      "outputs": []
    },
    {
      "cell_type": "code",
      "source": [
        "sales_profit_by_segment = data.groupby('Segment').agg({'Sales': 'sum', 'Profit': 'sum'}).reset_index()\n",
        "color_palette = colors.qualitative.Pastel\n",
        "fig =go.Figure()\n",
        "fig.add_trace(go.Bar(x=sales_profit_by_segment['Segment'], y=sales_profit_by_segment['Sales'], name='Sales', marker_color=color_palette[0]))\n",
        "fig.add_trace(go.Bar(x=sales_profit_by_segment['Segment'], y=sales_profit_by_segment['Profit'], name='Profit', marker_color=color_palette[1]))\n",
        "fig.update_layout(title='Sales and Profit by Customer Segment', barmode='group')\n",
        "fig.show()\n"
      ],
      "metadata": {
        "id": "IE54NvquY2oF"
      },
      "execution_count": null,
      "outputs": []
    },
    {
      "cell_type": "markdown",
      "source": [
        "# TASK -7 Analyze the sales to profit ratio."
      ],
      "metadata": {
        "id": "sLBWdN_fanZx"
      }
    },
    {
      "cell_type": "markdown",
      "source": [
        "# sales to profit ratio"
      ],
      "metadata": {
        "id": "KF2CAoDJaskL"
      }
    },
    {
      "cell_type": "code",
      "source": [
        "# Group by Segment and calculate total Sales and Profit\n",
        "sales_profit_by_segment = data.groupby('Segment').agg({'Sales': 'sum', 'Profit': 'sum'}).reset_index()\n",
        "\n",
        "# Calculate Sales to Profit Ratio\n",
        "sales_profit_by_segment['Sales_to_Profit_Ratio'] = sales_profit_by_segment['Sales'] / sales_profit_by_segment['Profit']\n",
        "\n",
        "# Display only Segment and Ratio\n",
        "print(sales_profit_by_segment[['Segment', 'Sales_to_Profit_Ratio']])\n"
      ],
      "metadata": {
        "id": "xsUfjPx6bips"
      },
      "execution_count": null,
      "outputs": []
    }
  ]
}